{
 "cells": [
  {
   "cell_type": "markdown",
   "metadata": {},
   "source": [
    "# WM Statefarm Notebook\n"
   ]
  },
  {
   "cell_type": "markdown",
   "metadata": {
    "heading_collapsed": true
   },
   "source": [
    "## Relevant sources:"
   ]
  },
  {
   "cell_type": "markdown",
   "metadata": {
    "hidden": true
   },
   "source": [
    "https://www.kaggle.com/c/state-farm-distracted-driver-detection\n",
    "\n",
    "http://ec2-35-167-61-73.us-west-2.compute.amazonaws.com:8888/notebooks/dogs_cats_redux.ipynb#Dogs-vs-Cat-Redux\n",
    "\n",
    "http://ec2-35-167-61-73.us-west-2.compute.amazonaws.com:8888/edit/utils.py\n",
    "\n",
    "http://ec2-35-167-61-73.us-west-2.compute.amazonaws.com:8888/edit/vgg16.py\n",
    "\n",
    "http://wiki.fast.ai/index.php/Lesson_2_Notes"
   ]
  },
  {
   "cell_type": "markdown",
   "metadata": {},
   "source": [
    "## Basic setup"
   ]
  },
  {
   "cell_type": "code",
   "execution_count": 1,
   "metadata": {
    "collapsed": false
   },
   "outputs": [
    {
     "data": {
      "text/plain": [
       "u'/home/ubuntu/nbs'"
      ]
     },
     "execution_count": 1,
     "metadata": {},
     "output_type": "execute_result"
    }
   ],
   "source": [
    "import os, sys\n",
    "\n",
    "%pwd"
   ]
  },
  {
   "cell_type": "code",
   "execution_count": 2,
   "metadata": {
    "collapsed": false
   },
   "outputs": [],
   "source": [
    "current_dir = os.getcwd()\n",
    "LESSON_HOME_DIR = current_dir\n",
    "DATA_HOME_DIR = LESSON_HOME_DIR + '/data/statefarm'"
   ]
  },
  {
   "cell_type": "code",
   "execution_count": 3,
   "metadata": {
    "collapsed": false
   },
   "outputs": [
    {
     "name": "stderr",
     "output_type": "stream",
     "text": [
      "Using gpu device 0: Tesla K80 (CNMeM is disabled, cuDNN 5103)\n",
      "/home/ubuntu/anaconda2/lib/python2.7/site-packages/theano/sandbox/cuda/__init__.py:600: UserWarning: Your cuDNN version is more recent than the one Theano officially supports. If you see any problems, try updating Theano or downgrading cuDNN to version 5.\n",
      "  warnings.warn(warn)\n",
      "Using Theano backend.\n"
     ]
    }
   ],
   "source": [
    "from utils import *\n",
    "from vgg16 import Vgg16\n",
    "\n",
    "# instantiate plotting tool\n",
    "%matplotlib inline"
   ]
  },
  {
   "cell_type": "markdown",
   "metadata": {
    "heading_collapsed": true
   },
   "source": [
    "## Download & structure data"
   ]
  },
  {
   "cell_type": "code",
   "execution_count": 6,
   "metadata": {
    "collapsed": true,
    "hidden": true
   },
   "outputs": [],
   "source": [
    "# data was downloaded via command line\n",
    "# !kg download -c state-farm-distracted-driver-detection"
   ]
  },
  {
   "cell_type": "code",
   "execution_count": 12,
   "metadata": {
    "collapsed": false,
    "hidden": true
   },
   "outputs": [
    {
     "name": "stdout",
     "output_type": "stream",
     "text": [
      "/home/ubuntu/nbs/data/statefarm\n"
     ]
    }
   ],
   "source": [
    "%cd $DATA_HOME_DIR\n",
    "\n",
    "%mkdir results\n",
    "%mkdir valid\n",
    "\n",
    "%mkdir -p test/unknown\n",
    "\n",
    "%mkdir -p sample/results\n",
    "%mkdir -p sample/train\n",
    "%mkdir -p sample/test\n",
    "%mkdir -p sample/valid"
   ]
  },
  {
   "cell_type": "code",
   "execution_count": 13,
   "metadata": {
    "collapsed": true,
    "hidden": true
   },
   "outputs": [],
   "source": [
    "# sort train data into proper classes\n",
    "# train data already sorted into classes\n",
    "# [ ]"
   ]
  },
  {
   "cell_type": "code",
   "execution_count": 34,
   "metadata": {
    "collapsed": false,
    "hidden": true
   },
   "outputs": [
    {
     "name": "stdout",
     "output_type": "stream",
     "text": [
      "/home/ubuntu/nbs/data/statefarm/test\n"
     ]
    }
   ],
   "source": [
    "%cd $DATA_HOME_DIR/test\n",
    "\n",
    "%mv *.jpg unknown"
   ]
  },
  {
   "cell_type": "code",
   "execution_count": 72,
   "metadata": {
    "collapsed": false,
    "hidden": true
   },
   "outputs": [
    {
     "name": "stdout",
     "output_type": "stream",
     "text": [
      "/home/ubuntu/nbs/data/statefarm/train\n",
      "/home/ubuntu/nbs/data/statefarm\n",
      "/home/ubuntu/nbs/data/statefarm/valid\n"
     ]
    }
   ],
   "source": [
    "# copy /train folders data structure for replication in valid/, sample/train, and sample/valid\n",
    "%cd $DATA_HOME_DIR/train\n",
    "\n",
    "classes = os.listdir('.')"
   ]
  },
  {
   "cell_type": "code",
   "execution_count": 46,
   "metadata": {
    "collapsed": false,
    "hidden": true
   },
   "outputs": [
    {
     "name": "stdout",
     "output_type": "stream",
     "text": [
      "/home/ubuntu/nbs/data/statefarm/valid\n",
      "mkdir: cannot create directory ‘c7’: File exists\n",
      "mkdir: cannot create directory ‘c8’: File exists\n",
      "mkdir: cannot create directory ‘c6’: File exists\n",
      "mkdir: cannot create directory ‘c0’: File exists\n",
      "mkdir: cannot create directory ‘c2’: File exists\n",
      "mkdir: cannot create directory ‘c4’: File exists\n",
      "mkdir: cannot create directory ‘c9’: File exists\n",
      "mkdir: cannot create directory ‘c1’: File exists\n",
      "mkdir: cannot create directory ‘c3’: File exists\n",
      "mkdir: cannot create directory ‘c5’: File exists\n",
      "/home/ubuntu/nbs/data/statefarm/sample/train\n",
      "/home/ubuntu/nbs/data/statefarm/sample/valid\n"
     ]
    }
   ],
   "source": [
    "# re-create folder structure in /train\n",
    "\n",
    "%cd $DATA_HOME_DIR/valid\n",
    "for x in classes:\n",
    "    %mkdir $x\n",
    "    \n",
    "%cd $DATA_HOME_DIR/sample/train\n",
    "for x in classes:\n",
    "    %mkdir $x\n",
    "\n",
    "%cd $DATA_HOME_DIR/sample/valid\n",
    "for x in classes:\n",
    "    %mkdir $x"
   ]
  },
  {
   "cell_type": "code",
   "execution_count": 70,
   "metadata": {
    "collapsed": false,
    "hidden": true
   },
   "outputs": [
    {
     "name": "stdout",
     "output_type": "stream",
     "text": [
      "/home/ubuntu/nbs/data/statefarm/train\n",
      "/home/ubuntu/nbs/data/statefarm/train/c7\n",
      "/home/ubuntu/nbs/data/statefarm/train/c8\n",
      "/home/ubuntu/nbs/data/statefarm/train/c6\n",
      "/home/ubuntu/nbs/data/statefarm/train/c0\n",
      "/home/ubuntu/nbs/data/statefarm/train/c2\n",
      "/home/ubuntu/nbs/data/statefarm/train/c4\n",
      "/home/ubuntu/nbs/data/statefarm/train/c9\n",
      "/home/ubuntu/nbs/data/statefarm/train/c1\n",
      "/home/ubuntu/nbs/data/statefarm/train/c3\n",
      "/home/ubuntu/nbs/data/statefarm/train/c5\n"
     ]
    }
   ],
   "source": [
    "# move / copy appropriate sets of training data into valid\n",
    "%cd $DATA_HOME_DIR/train\n",
    "\n",
    "for x in classes:\n",
    "    %cd $DATA_HOME_DIR/train/$x\n",
    "    g = glob('*.jpg')\n",
    "    shuf = np.random.permutation(g)\n",
    "    for i in range(200): os.rename(shuf[i], DATA_HOME_DIR+'/valid/'+x+'/'+shuf[i])"
   ]
  },
  {
   "cell_type": "code",
   "execution_count": 71,
   "metadata": {
    "collapsed": true,
    "hidden": true
   },
   "outputs": [
    {
     "name": "stdout",
     "output_type": "stream",
     "text": [
      "/home/ubuntu/nbs/data/statefarm/train\n",
      "/home/ubuntu/nbs/data/statefarm/train/c7\n",
      "/home/ubuntu/nbs/data/statefarm/train/c8\n",
      "/home/ubuntu/nbs/data/statefarm/train/c6\n",
      "/home/ubuntu/nbs/data/statefarm/train/c0\n",
      "/home/ubuntu/nbs/data/statefarm/train/c2\n",
      "/home/ubuntu/nbs/data/statefarm/train/c4\n",
      "/home/ubuntu/nbs/data/statefarm/train/c9\n",
      "/home/ubuntu/nbs/data/statefarm/train/c1\n",
      "/home/ubuntu/nbs/data/statefarm/train/c3\n",
      "/home/ubuntu/nbs/data/statefarm/train/c5\n",
      "/home/ubuntu/nbs/data/statefarm/valid\n",
      "/home/ubuntu/nbs/data/statefarm/valid/c7\n",
      "/home/ubuntu/nbs/data/statefarm/valid/c8\n",
      "/home/ubuntu/nbs/data/statefarm/valid/c6\n",
      "/home/ubuntu/nbs/data/statefarm/valid/c0\n",
      "/home/ubuntu/nbs/data/statefarm/valid/c2\n",
      "/home/ubuntu/nbs/data/statefarm/valid/c4\n",
      "/home/ubuntu/nbs/data/statefarm/valid/c9\n",
      "/home/ubuntu/nbs/data/statefarm/valid/c1\n",
      "/home/ubuntu/nbs/data/statefarm/valid/c3\n",
      "/home/ubuntu/nbs/data/statefarm/valid/c5\n"
     ]
    }
   ],
   "source": [
    "# move / copy appropriate sets of training data into sample\n",
    "from shutil import copyfile\n",
    "\n",
    "%cd $DATA_HOME_DIR/train\n",
    "for x in classes:\n",
    "    %cd $DATA_HOME_DIR/train/$x\n",
    "    g = glob('*.jpg')\n",
    "    shuf = np.random.permutation(g)\n",
    "    for i in range(20): copyfile(shuf[i], DATA_HOME_DIR+'/sample/train/'+x+'/'+shuf[i])\n",
    "\n",
    "%cd $DATA_HOME_DIR/valid\n",
    "for x in classes:\n",
    "    %cd $DATA_HOME_DIR/valid/$x\n",
    "    g = glob('*.jpg')\n",
    "    shuf = np.random.permutation(g)\n",
    "    for i in range(5): copyfile(shuf[i], DATA_HOME_DIR+'/sample/valid/'+x+'/'+shuf[i])"
   ]
  },
  {
   "cell_type": "code",
   "execution_count": 73,
   "metadata": {
    "collapsed": true,
    "hidden": true
   },
   "outputs": [
    {
     "name": "stdout",
     "output_type": "stream",
     "text": [
      "/home/ubuntu/nbs/data/statefarm\n",
      "['p002,c0,img_44733.jpg', 'p002,c0,img_72999.jpg', 'p002,c0,img_25094.jpg']\n",
      "set(['p022', 'p049', 'p021', 'p026', 'p002', 'p041', 'p042', 'p045', 'p047', 'p024', 'p072', 'p075', 'p016', 'p015', 'p014', 'p039', 'p012', 'p035', 'p052', 'p051', 'p050', 'p056', 'p066', 'p064', 'p061', 'p081'])\n"
     ]
    }
   ],
   "source": [
    "%cd $DATA_HOME_DIR\n",
    "\n",
    "with open('driver_imgs_list.csv') as f:\n",
    "    driver_list = f.read().splitlines()\n",
    "\n",
    "driver_list = driver_list[1:]\n",
    "print driver_list[:3]\n",
    "print set([x[:4] for x in driver_list])\n",
    "first_driver = [x for x in driver_list if x[:4] == \"p002\"]\n",
    "second_driver = [x for x in driver_list if x[:4] == \"p049\"]\n",
    "third_driver = [x for x in driver_list if x[:4] == \"p022\"]\n",
    "\n",
    "for x in first_driver:\n",
    "    tr_path = DATA_HOME_DIR+'/train/'+x[5:7]+'/'+x[8:]\n",
    "    val_path = DATA_HOME_DIR+'/valid/'+x[5:7]+'/'+x[8:]\n",
    "    os.rename(tr_path, val_path)\n",
    "    \n",
    "for x in second_driver:\n",
    "    tr_path = DATA_HOME_DIR+'/train/'+x[5:7]+'/'+x[8:]\n",
    "    val_path = DATA_HOME_DIR+'/valid/'+x[5:7]+'/'+x[8:]\n",
    "    os.rename(tr_path, val_path)\n",
    "    \n",
    "for x in third_driver:\n",
    "    tr_path = DATA_HOME_DIR+'/train/'+x[5:7]+'/'+x[8:]\n",
    "    val_path = DATA_HOME_DIR+'/valid/'+x[5:7]+'/'+x[8:]\n",
    "    os.rename(tr_path, val_path)"
   ]
  },
  {
   "cell_type": "markdown",
   "metadata": {},
   "source": [
    "## Build & train model"
   ]
  },
  {
   "cell_type": "code",
   "execution_count": 4,
   "metadata": {
    "collapsed": false
   },
   "outputs": [
    {
     "name": "stdout",
     "output_type": "stream",
     "text": [
      "/home/ubuntu/nbs/data/statefarm\n"
     ]
    }
   ],
   "source": [
    "# set proper paths\n",
    "%cd $DATA_HOME_DIR\n",
    "\n",
    "path = DATA_HOME_DIR + '/' # \n",
    "test_path = DATA_HOME_DIR + '/test/' # use all of the test data\n",
    "results_path = path + 'results/'\n",
    "train_path = path + 'train/'\n",
    "valid_path = path + 'valid/'"
   ]
  },
  {
   "cell_type": "markdown",
   "metadata": {
    "heading_collapsed": true
   },
   "source": [
    "### Using ImageNet"
   ]
  },
  {
   "cell_type": "code",
   "execution_count": 5,
   "metadata": {
    "collapsed": false,
    "hidden": true
   },
   "outputs": [],
   "source": [
    "# import Vgg helper class\n",
    "vgg = Vgg16()"
   ]
  },
  {
   "cell_type": "code",
   "execution_count": 6,
   "metadata": {
    "collapsed": false,
    "hidden": true
   },
   "outputs": [
    {
     "name": "stdout",
     "output_type": "stream",
     "text": [
      "____________________________________________________________________________________________________\n",
      "Layer (type)                     Output Shape          Param #     Connected to                     \n",
      "====================================================================================================\n",
      "lambda_1 (Lambda)                (None, 3, 224, 224)   0           lambda_input_1[0][0]             \n",
      "____________________________________________________________________________________________________\n",
      "zeropadding2d_1 (ZeroPadding2D)  (None, 3, 226, 226)   0           lambda_1[0][0]                   \n",
      "____________________________________________________________________________________________________\n",
      "convolution2d_1 (Convolution2D)  (None, 64, 224, 224)  1792        zeropadding2d_1[0][0]            \n",
      "____________________________________________________________________________________________________\n",
      "zeropadding2d_2 (ZeroPadding2D)  (None, 64, 226, 226)  0           convolution2d_1[0][0]            \n",
      "____________________________________________________________________________________________________\n",
      "convolution2d_2 (Convolution2D)  (None, 64, 224, 224)  36928       zeropadding2d_2[0][0]            \n",
      "____________________________________________________________________________________________________\n",
      "maxpooling2d_1 (MaxPooling2D)    (None, 64, 112, 112)  0           convolution2d_2[0][0]            \n",
      "____________________________________________________________________________________________________\n",
      "zeropadding2d_3 (ZeroPadding2D)  (None, 64, 114, 114)  0           maxpooling2d_1[0][0]             \n",
      "____________________________________________________________________________________________________\n",
      "convolution2d_3 (Convolution2D)  (None, 128, 112, 112) 73856       zeropadding2d_3[0][0]            \n",
      "____________________________________________________________________________________________________\n",
      "zeropadding2d_4 (ZeroPadding2D)  (None, 128, 114, 114) 0           convolution2d_3[0][0]            \n",
      "____________________________________________________________________________________________________\n",
      "convolution2d_4 (Convolution2D)  (None, 128, 112, 112) 147584      zeropadding2d_4[0][0]            \n",
      "____________________________________________________________________________________________________\n",
      "maxpooling2d_2 (MaxPooling2D)    (None, 128, 56, 56)   0           convolution2d_4[0][0]            \n",
      "____________________________________________________________________________________________________\n",
      "zeropadding2d_5 (ZeroPadding2D)  (None, 128, 58, 58)   0           maxpooling2d_2[0][0]             \n",
      "____________________________________________________________________________________________________\n",
      "convolution2d_5 (Convolution2D)  (None, 256, 56, 56)   295168      zeropadding2d_5[0][0]            \n",
      "____________________________________________________________________________________________________\n",
      "zeropadding2d_6 (ZeroPadding2D)  (None, 256, 58, 58)   0           convolution2d_5[0][0]            \n",
      "____________________________________________________________________________________________________\n",
      "convolution2d_6 (Convolution2D)  (None, 256, 56, 56)   590080      zeropadding2d_6[0][0]            \n",
      "____________________________________________________________________________________________________\n",
      "zeropadding2d_7 (ZeroPadding2D)  (None, 256, 58, 58)   0           convolution2d_6[0][0]            \n",
      "____________________________________________________________________________________________________\n",
      "convolution2d_7 (Convolution2D)  (None, 256, 56, 56)   590080      zeropadding2d_7[0][0]            \n",
      "____________________________________________________________________________________________________\n",
      "maxpooling2d_3 (MaxPooling2D)    (None, 256, 28, 28)   0           convolution2d_7[0][0]            \n",
      "____________________________________________________________________________________________________\n",
      "zeropadding2d_8 (ZeroPadding2D)  (None, 256, 30, 30)   0           maxpooling2d_3[0][0]             \n",
      "____________________________________________________________________________________________________\n",
      "convolution2d_8 (Convolution2D)  (None, 512, 28, 28)   1180160     zeropadding2d_8[0][0]            \n",
      "____________________________________________________________________________________________________\n",
      "zeropadding2d_9 (ZeroPadding2D)  (None, 512, 30, 30)   0           convolution2d_8[0][0]            \n",
      "____________________________________________________________________________________________________\n",
      "convolution2d_9 (Convolution2D)  (None, 512, 28, 28)   2359808     zeropadding2d_9[0][0]            \n",
      "____________________________________________________________________________________________________\n",
      "zeropadding2d_10 (ZeroPadding2D) (None, 512, 30, 30)   0           convolution2d_9[0][0]            \n",
      "____________________________________________________________________________________________________\n",
      "convolution2d_10 (Convolution2D) (None, 512, 28, 28)   2359808     zeropadding2d_10[0][0]           \n",
      "____________________________________________________________________________________________________\n",
      "maxpooling2d_4 (MaxPooling2D)    (None, 512, 14, 14)   0           convolution2d_10[0][0]           \n",
      "____________________________________________________________________________________________________\n",
      "zeropadding2d_11 (ZeroPadding2D) (None, 512, 16, 16)   0           maxpooling2d_4[0][0]             \n",
      "____________________________________________________________________________________________________\n",
      "convolution2d_11 (Convolution2D) (None, 512, 14, 14)   2359808     zeropadding2d_11[0][0]           \n",
      "____________________________________________________________________________________________________\n",
      "zeropadding2d_12 (ZeroPadding2D) (None, 512, 16, 16)   0           convolution2d_11[0][0]           \n",
      "____________________________________________________________________________________________________\n",
      "convolution2d_12 (Convolution2D) (None, 512, 14, 14)   2359808     zeropadding2d_12[0][0]           \n",
      "____________________________________________________________________________________________________\n",
      "zeropadding2d_13 (ZeroPadding2D) (None, 512, 16, 16)   0           convolution2d_12[0][0]           \n",
      "____________________________________________________________________________________________________\n",
      "convolution2d_13 (Convolution2D) (None, 512, 14, 14)   2359808     zeropadding2d_13[0][0]           \n",
      "____________________________________________________________________________________________________\n",
      "maxpooling2d_5 (MaxPooling2D)    (None, 512, 7, 7)     0           convolution2d_13[0][0]           \n",
      "____________________________________________________________________________________________________\n",
      "flatten_1 (Flatten)              (None, 25088)         0           maxpooling2d_5[0][0]             \n",
      "____________________________________________________________________________________________________\n",
      "dense_1 (Dense)                  (None, 4096)          102764544   flatten_1[0][0]                  \n",
      "____________________________________________________________________________________________________\n",
      "dropout_1 (Dropout)              (None, 4096)          0           dense_1[0][0]                    \n",
      "____________________________________________________________________________________________________\n",
      "dense_2 (Dense)                  (None, 4096)          16781312    dropout_1[0][0]                  \n",
      "____________________________________________________________________________________________________\n",
      "dropout_2 (Dropout)              (None, 4096)          0           dense_2[0][0]                    \n",
      "____________________________________________________________________________________________________\n",
      "dense_3 (Dense)                  (None, 1000)          4097000     dropout_2[0][0]                  \n",
      "====================================================================================================\n",
      "Total params: 138357544\n",
      "____________________________________________________________________________________________________\n"
     ]
    }
   ],
   "source": [
    "vgg.model.summary();"
   ]
  },
  {
   "cell_type": "code",
   "execution_count": 7,
   "metadata": {
    "collapsed": false,
    "hidden": true
   },
   "outputs": [],
   "source": [
    "# set Vgg constants\n",
    "batch_size = 64\n",
    "num_epochs = 1"
   ]
  },
  {
   "cell_type": "code",
   "execution_count": 8,
   "metadata": {
    "collapsed": false,
    "hidden": true
   },
   "outputs": [
    {
     "name": "stdout",
     "output_type": "stream",
     "text": [
      "Found 20424 images belonging to 10 classes.\n",
      "Found 2000 images belonging to 10 classes.\n"
     ]
    }
   ],
   "source": [
    "# get batch iterators\n",
    "batches = vgg.get_batches(path=train_path,batch_size=batch_size)\n",
    "val_batches = vgg.get_batches(path=valid_path,batch_size=batch_size*2)"
   ]
  },
  {
   "cell_type": "code",
   "execution_count": 9,
   "metadata": {
    "collapsed": false,
    "hidden": true
   },
   "outputs": [
    {
     "name": "stdout",
     "output_type": "stream",
     "text": [
      "____________________________________________________________________________________________________\n",
      "Layer (type)                     Output Shape          Param #     Connected to                     \n",
      "====================================================================================================\n",
      "lambda_1 (Lambda)                (None, 3, 224, 224)   0           lambda_input_1[0][0]             \n",
      "____________________________________________________________________________________________________\n",
      "zeropadding2d_1 (ZeroPadding2D)  (None, 3, 226, 226)   0           lambda_1[0][0]                   \n",
      "____________________________________________________________________________________________________\n",
      "convolution2d_1 (Convolution2D)  (None, 64, 224, 224)  0           zeropadding2d_1[0][0]            \n",
      "____________________________________________________________________________________________________\n",
      "zeropadding2d_2 (ZeroPadding2D)  (None, 64, 226, 226)  0           convolution2d_1[0][0]            \n",
      "____________________________________________________________________________________________________\n",
      "convolution2d_2 (Convolution2D)  (None, 64, 224, 224)  0           zeropadding2d_2[0][0]            \n",
      "____________________________________________________________________________________________________\n",
      "maxpooling2d_1 (MaxPooling2D)    (None, 64, 112, 112)  0           convolution2d_2[0][0]            \n",
      "____________________________________________________________________________________________________\n",
      "zeropadding2d_3 (ZeroPadding2D)  (None, 64, 114, 114)  0           maxpooling2d_1[0][0]             \n",
      "____________________________________________________________________________________________________\n",
      "convolution2d_3 (Convolution2D)  (None, 128, 112, 112) 0           zeropadding2d_3[0][0]            \n",
      "____________________________________________________________________________________________________\n",
      "zeropadding2d_4 (ZeroPadding2D)  (None, 128, 114, 114) 0           convolution2d_3[0][0]            \n",
      "____________________________________________________________________________________________________\n",
      "convolution2d_4 (Convolution2D)  (None, 128, 112, 112) 0           zeropadding2d_4[0][0]            \n",
      "____________________________________________________________________________________________________\n",
      "maxpooling2d_2 (MaxPooling2D)    (None, 128, 56, 56)   0           convolution2d_4[0][0]            \n",
      "____________________________________________________________________________________________________\n",
      "zeropadding2d_5 (ZeroPadding2D)  (None, 128, 58, 58)   0           maxpooling2d_2[0][0]             \n",
      "____________________________________________________________________________________________________\n",
      "convolution2d_5 (Convolution2D)  (None, 256, 56, 56)   0           zeropadding2d_5[0][0]            \n",
      "____________________________________________________________________________________________________\n",
      "zeropadding2d_6 (ZeroPadding2D)  (None, 256, 58, 58)   0           convolution2d_5[0][0]            \n",
      "____________________________________________________________________________________________________\n",
      "convolution2d_6 (Convolution2D)  (None, 256, 56, 56)   0           zeropadding2d_6[0][0]            \n",
      "____________________________________________________________________________________________________\n",
      "zeropadding2d_7 (ZeroPadding2D)  (None, 256, 58, 58)   0           convolution2d_6[0][0]            \n",
      "____________________________________________________________________________________________________\n",
      "convolution2d_7 (Convolution2D)  (None, 256, 56, 56)   0           zeropadding2d_7[0][0]            \n",
      "____________________________________________________________________________________________________\n",
      "maxpooling2d_3 (MaxPooling2D)    (None, 256, 28, 28)   0           convolution2d_7[0][0]            \n",
      "____________________________________________________________________________________________________\n",
      "zeropadding2d_8 (ZeroPadding2D)  (None, 256, 30, 30)   0           maxpooling2d_3[0][0]             \n",
      "____________________________________________________________________________________________________\n",
      "convolution2d_8 (Convolution2D)  (None, 512, 28, 28)   0           zeropadding2d_8[0][0]            \n",
      "____________________________________________________________________________________________________\n",
      "zeropadding2d_9 (ZeroPadding2D)  (None, 512, 30, 30)   0           convolution2d_8[0][0]            \n",
      "____________________________________________________________________________________________________\n",
      "convolution2d_9 (Convolution2D)  (None, 512, 28, 28)   0           zeropadding2d_9[0][0]            \n",
      "____________________________________________________________________________________________________\n",
      "zeropadding2d_10 (ZeroPadding2D) (None, 512, 30, 30)   0           convolution2d_9[0][0]            \n",
      "____________________________________________________________________________________________________\n",
      "convolution2d_10 (Convolution2D) (None, 512, 28, 28)   0           zeropadding2d_10[0][0]           \n",
      "____________________________________________________________________________________________________\n",
      "maxpooling2d_4 (MaxPooling2D)    (None, 512, 14, 14)   0           convolution2d_10[0][0]           \n",
      "____________________________________________________________________________________________________\n",
      "zeropadding2d_11 (ZeroPadding2D) (None, 512, 16, 16)   0           maxpooling2d_4[0][0]             \n",
      "____________________________________________________________________________________________________\n",
      "convolution2d_11 (Convolution2D) (None, 512, 14, 14)   0           zeropadding2d_11[0][0]           \n",
      "____________________________________________________________________________________________________\n",
      "zeropadding2d_12 (ZeroPadding2D) (None, 512, 16, 16)   0           convolution2d_11[0][0]           \n",
      "____________________________________________________________________________________________________\n",
      "convolution2d_12 (Convolution2D) (None, 512, 14, 14)   0           zeropadding2d_12[0][0]           \n",
      "____________________________________________________________________________________________________\n",
      "zeropadding2d_13 (ZeroPadding2D) (None, 512, 16, 16)   0           convolution2d_12[0][0]           \n",
      "____________________________________________________________________________________________________\n",
      "convolution2d_13 (Convolution2D) (None, 512, 14, 14)   0           zeropadding2d_13[0][0]           \n",
      "____________________________________________________________________________________________________\n",
      "maxpooling2d_5 (MaxPooling2D)    (None, 512, 7, 7)     0           convolution2d_13[0][0]           \n",
      "____________________________________________________________________________________________________\n",
      "flatten_1 (Flatten)              (None, 25088)         0           maxpooling2d_5[0][0]             \n",
      "____________________________________________________________________________________________________\n",
      "dense_1 (Dense)                  (None, 4096)          0           flatten_1[0][0]                  \n",
      "____________________________________________________________________________________________________\n",
      "dropout_1 (Dropout)              (None, 4096)          0           dense_1[0][0]                    \n",
      "____________________________________________________________________________________________________\n",
      "dense_2 (Dense)                  (None, 4096)          0           dropout_1[0][0]                  \n",
      "____________________________________________________________________________________________________\n",
      "dropout_2 (Dropout)              (None, 4096)          0           dense_2[0][0]                    \n",
      "____________________________________________________________________________________________________\n",
      "dense_4 (Dense)                  (None, 10)            40970       dropout_2[0][0]                  \n",
      "====================================================================================================\n",
      "Total params: 40970\n",
      "____________________________________________________________________________________________________\n"
     ]
    }
   ],
   "source": [
    "# fine tune model for statefarm data\n",
    "vgg.model.pop();\n",
    "for layer in vgg.model.layers: layer.trainable = False\n",
    "vgg.model.add(Dense(batches.nb_class,input_shape=(4096,),activation='softmax'))\n",
    "vgg.model.compile(optimizer=RMSprop(),loss='categorical_crossentropy',metrics=['accuracy'])\n",
    "vgg.model.summary();"
   ]
  },
  {
   "cell_type": "code",
   "execution_count": null,
   "metadata": {
    "collapsed": true,
    "hidden": true
   },
   "outputs": [],
   "source": [
    "vgg.model.load_weights(results_path+'ft4_0.h5')\n",
    "num_arch = 4"
   ]
  },
  {
   "cell_type": "code",
   "execution_count": 16,
   "metadata": {
    "collapsed": false,
    "hidden": true
   },
   "outputs": [
    {
     "name": "stdout",
     "output_type": "stream",
     "text": [
      "____________________________________________________________________________________________________\n",
      "Layer (type)                     Output Shape          Param #     Connected to                     \n",
      "====================================================================================================\n",
      "lambda_1 (Lambda)                (None, 3, 224, 224)   0           lambda_input_1[0][0]             \n",
      "____________________________________________________________________________________________________\n",
      "zeropadding2d_1 (ZeroPadding2D)  (None, 3, 226, 226)   0           lambda_1[0][0]                   \n",
      "____________________________________________________________________________________________________\n",
      "convolution2d_1 (Convolution2D)  (None, 64, 224, 224)  0           zeropadding2d_1[0][0]            \n",
      "____________________________________________________________________________________________________\n",
      "zeropadding2d_2 (ZeroPadding2D)  (None, 64, 226, 226)  0           convolution2d_1[0][0]            \n",
      "____________________________________________________________________________________________________\n",
      "convolution2d_2 (Convolution2D)  (None, 64, 224, 224)  0           zeropadding2d_2[0][0]            \n",
      "____________________________________________________________________________________________________\n",
      "maxpooling2d_1 (MaxPooling2D)    (None, 64, 112, 112)  0           convolution2d_2[0][0]            \n",
      "____________________________________________________________________________________________________\n",
      "zeropadding2d_3 (ZeroPadding2D)  (None, 64, 114, 114)  0           maxpooling2d_1[0][0]             \n",
      "____________________________________________________________________________________________________\n",
      "convolution2d_3 (Convolution2D)  (None, 128, 112, 112) 0           zeropadding2d_3[0][0]            \n",
      "____________________________________________________________________________________________________\n",
      "zeropadding2d_4 (ZeroPadding2D)  (None, 128, 114, 114) 0           convolution2d_3[0][0]            \n",
      "____________________________________________________________________________________________________\n",
      "convolution2d_4 (Convolution2D)  (None, 128, 112, 112) 0           zeropadding2d_4[0][0]            \n",
      "____________________________________________________________________________________________________\n",
      "maxpooling2d_2 (MaxPooling2D)    (None, 128, 56, 56)   0           convolution2d_4[0][0]            \n",
      "____________________________________________________________________________________________________\n",
      "zeropadding2d_5 (ZeroPadding2D)  (None, 128, 58, 58)   0           maxpooling2d_2[0][0]             \n",
      "____________________________________________________________________________________________________\n",
      "convolution2d_5 (Convolution2D)  (None, 256, 56, 56)   0           zeropadding2d_5[0][0]            \n",
      "____________________________________________________________________________________________________\n",
      "zeropadding2d_6 (ZeroPadding2D)  (None, 256, 58, 58)   0           convolution2d_5[0][0]            \n",
      "____________________________________________________________________________________________________\n",
      "convolution2d_6 (Convolution2D)  (None, 256, 56, 56)   0           zeropadding2d_6[0][0]            \n",
      "____________________________________________________________________________________________________\n",
      "zeropadding2d_7 (ZeroPadding2D)  (None, 256, 58, 58)   0           convolution2d_6[0][0]            \n",
      "____________________________________________________________________________________________________\n",
      "convolution2d_7 (Convolution2D)  (None, 256, 56, 56)   0           zeropadding2d_7[0][0]            \n",
      "____________________________________________________________________________________________________\n",
      "maxpooling2d_3 (MaxPooling2D)    (None, 256, 28, 28)   0           convolution2d_7[0][0]            \n",
      "____________________________________________________________________________________________________\n",
      "zeropadding2d_8 (ZeroPadding2D)  (None, 256, 30, 30)   0           maxpooling2d_3[0][0]             \n",
      "____________________________________________________________________________________________________\n",
      "convolution2d_8 (Convolution2D)  (None, 512, 28, 28)   0           zeropadding2d_8[0][0]            \n",
      "____________________________________________________________________________________________________\n",
      "zeropadding2d_9 (ZeroPadding2D)  (None, 512, 30, 30)   0           convolution2d_8[0][0]            \n",
      "____________________________________________________________________________________________________\n",
      "convolution2d_9 (Convolution2D)  (None, 512, 28, 28)   0           zeropadding2d_9[0][0]            \n",
      "____________________________________________________________________________________________________\n",
      "zeropadding2d_10 (ZeroPadding2D) (None, 512, 30, 30)   0           convolution2d_9[0][0]            \n",
      "____________________________________________________________________________________________________\n",
      "convolution2d_10 (Convolution2D) (None, 512, 28, 28)   0           zeropadding2d_10[0][0]           \n",
      "____________________________________________________________________________________________________\n",
      "maxpooling2d_4 (MaxPooling2D)    (None, 512, 14, 14)   0           convolution2d_10[0][0]           \n",
      "____________________________________________________________________________________________________\n",
      "zeropadding2d_11 (ZeroPadding2D) (None, 512, 16, 16)   0           maxpooling2d_4[0][0]             \n",
      "____________________________________________________________________________________________________\n",
      "convolution2d_11 (Convolution2D) (None, 512, 14, 14)   0           zeropadding2d_11[0][0]           \n",
      "____________________________________________________________________________________________________\n",
      "zeropadding2d_12 (ZeroPadding2D) (None, 512, 16, 16)   0           convolution2d_11[0][0]           \n",
      "____________________________________________________________________________________________________\n",
      "convolution2d_12 (Convolution2D) (None, 512, 14, 14)   0           zeropadding2d_12[0][0]           \n",
      "____________________________________________________________________________________________________\n",
      "zeropadding2d_13 (ZeroPadding2D) (None, 512, 16, 16)   0           convolution2d_12[0][0]           \n",
      "____________________________________________________________________________________________________\n",
      "convolution2d_13 (Convolution2D) (None, 512, 14, 14)   0           zeropadding2d_13[0][0]           \n",
      "____________________________________________________________________________________________________\n",
      "maxpooling2d_5 (MaxPooling2D)    (None, 512, 7, 7)     0           convolution2d_13[0][0]           \n",
      "____________________________________________________________________________________________________\n",
      "flatten_1 (Flatten)              (None, 25088)         0           maxpooling2d_5[0][0]             \n",
      "____________________________________________________________________________________________________\n",
      "dense_1 (Dense)                  (None, 4096)          102764544   flatten_1[0][0]                  \n",
      "____________________________________________________________________________________________________\n",
      "dropout_1 (Dropout)              (None, 4096)          0           dense_1[0][0]                    \n",
      "____________________________________________________________________________________________________\n",
      "dense_2 (Dense)                  (None, 4096)          16781312    dropout_1[0][0]                  \n",
      "____________________________________________________________________________________________________\n",
      "dropout_2 (Dropout)              (None, 4096)          0           dense_2[0][0]                    \n",
      "____________________________________________________________________________________________________\n",
      "dense_4 (Dense)                  (None, 10)            40970       dropout_2[0][0]                  \n",
      "====================================================================================================\n",
      "Total params: 119586826\n",
      "____________________________________________________________________________________________________\n"
     ]
    }
   ],
   "source": [
    "for layer in vgg.model.layers:\n",
    "    if type(layer) is Dense:\n",
    "        layer.trainable = True\n",
    "vgg.model.summary();"
   ]
  },
  {
   "cell_type": "code",
   "execution_count": 18,
   "metadata": {
    "collapsed": true,
    "hidden": true
   },
   "outputs": [],
   "source": [
    "num_arch = 4"
   ]
  },
  {
   "cell_type": "code",
   "execution_count": 25,
   "metadata": {
    "collapsed": false,
    "hidden": true
   },
   "outputs": [
    {
     "name": "stdout",
     "output_type": "stream",
     "text": [
      "____________________________________________________________________________________________________\n",
      "Layer (type)                     Output Shape          Param #     Connected to                     \n",
      "====================================================================================================\n",
      "lambda_1 (Lambda)                (None, 3, 224, 224)   0           lambda_input_1[0][0]             \n",
      "____________________________________________________________________________________________________\n",
      "zeropadding2d_1 (ZeroPadding2D)  (None, 3, 226, 226)   0           lambda_1[0][0]                   \n",
      "____________________________________________________________________________________________________\n",
      "convolution2d_1 (Convolution2D)  (None, 64, 224, 224)  1792        zeropadding2d_1[0][0]            \n",
      "____________________________________________________________________________________________________\n",
      "zeropadding2d_2 (ZeroPadding2D)  (None, 64, 226, 226)  0           convolution2d_1[0][0]            \n",
      "____________________________________________________________________________________________________\n",
      "convolution2d_2 (Convolution2D)  (None, 64, 224, 224)  36928       zeropadding2d_2[0][0]            \n",
      "____________________________________________________________________________________________________\n",
      "maxpooling2d_1 (MaxPooling2D)    (None, 64, 112, 112)  0           convolution2d_2[0][0]            \n",
      "____________________________________________________________________________________________________\n",
      "zeropadding2d_3 (ZeroPadding2D)  (None, 64, 114, 114)  0           maxpooling2d_1[0][0]             \n",
      "____________________________________________________________________________________________________\n",
      "convolution2d_3 (Convolution2D)  (None, 128, 112, 112) 73856       zeropadding2d_3[0][0]            \n",
      "____________________________________________________________________________________________________\n",
      "zeropadding2d_4 (ZeroPadding2D)  (None, 128, 114, 114) 0           convolution2d_3[0][0]            \n",
      "____________________________________________________________________________________________________\n",
      "convolution2d_4 (Convolution2D)  (None, 128, 112, 112) 147584      zeropadding2d_4[0][0]            \n",
      "____________________________________________________________________________________________________\n",
      "maxpooling2d_2 (MaxPooling2D)    (None, 128, 56, 56)   0           convolution2d_4[0][0]            \n",
      "____________________________________________________________________________________________________\n",
      "zeropadding2d_5 (ZeroPadding2D)  (None, 128, 58, 58)   0           maxpooling2d_2[0][0]             \n",
      "____________________________________________________________________________________________________\n",
      "convolution2d_5 (Convolution2D)  (None, 256, 56, 56)   295168      zeropadding2d_5[0][0]            \n",
      "____________________________________________________________________________________________________\n",
      "zeropadding2d_6 (ZeroPadding2D)  (None, 256, 58, 58)   0           convolution2d_5[0][0]            \n",
      "____________________________________________________________________________________________________\n",
      "convolution2d_6 (Convolution2D)  (None, 256, 56, 56)   590080      zeropadding2d_6[0][0]            \n",
      "____________________________________________________________________________________________________\n",
      "zeropadding2d_7 (ZeroPadding2D)  (None, 256, 58, 58)   0           convolution2d_6[0][0]            \n",
      "____________________________________________________________________________________________________\n",
      "convolution2d_7 (Convolution2D)  (None, 256, 56, 56)   590080      zeropadding2d_7[0][0]            \n",
      "____________________________________________________________________________________________________\n",
      "maxpooling2d_3 (MaxPooling2D)    (None, 256, 28, 28)   0           convolution2d_7[0][0]            \n",
      "____________________________________________________________________________________________________\n",
      "zeropadding2d_8 (ZeroPadding2D)  (None, 256, 30, 30)   0           maxpooling2d_3[0][0]             \n",
      "____________________________________________________________________________________________________\n",
      "convolution2d_8 (Convolution2D)  (None, 512, 28, 28)   1180160     zeropadding2d_8[0][0]            \n",
      "____________________________________________________________________________________________________\n",
      "zeropadding2d_9 (ZeroPadding2D)  (None, 512, 30, 30)   0           convolution2d_8[0][0]            \n",
      "____________________________________________________________________________________________________\n",
      "convolution2d_9 (Convolution2D)  (None, 512, 28, 28)   2359808     zeropadding2d_9[0][0]            \n",
      "____________________________________________________________________________________________________\n",
      "zeropadding2d_10 (ZeroPadding2D) (None, 512, 30, 30)   0           convolution2d_9[0][0]            \n",
      "____________________________________________________________________________________________________\n",
      "convolution2d_10 (Convolution2D) (None, 512, 28, 28)   2359808     zeropadding2d_10[0][0]           \n",
      "____________________________________________________________________________________________________\n",
      "maxpooling2d_4 (MaxPooling2D)    (None, 512, 14, 14)   0           convolution2d_10[0][0]           \n",
      "____________________________________________________________________________________________________\n",
      "zeropadding2d_11 (ZeroPadding2D) (None, 512, 16, 16)   0           maxpooling2d_4[0][0]             \n",
      "____________________________________________________________________________________________________\n",
      "convolution2d_11 (Convolution2D) (None, 512, 14, 14)   2359808     zeropadding2d_11[0][0]           \n",
      "____________________________________________________________________________________________________\n",
      "zeropadding2d_12 (ZeroPadding2D) (None, 512, 16, 16)   0           convolution2d_11[0][0]           \n",
      "____________________________________________________________________________________________________\n",
      "convolution2d_12 (Convolution2D) (None, 512, 14, 14)   2359808     zeropadding2d_12[0][0]           \n",
      "____________________________________________________________________________________________________\n",
      "zeropadding2d_13 (ZeroPadding2D) (None, 512, 16, 16)   0           convolution2d_12[0][0]           \n",
      "____________________________________________________________________________________________________\n",
      "convolution2d_13 (Convolution2D) (None, 512, 14, 14)   2359808     zeropadding2d_13[0][0]           \n",
      "____________________________________________________________________________________________________\n",
      "maxpooling2d_5 (MaxPooling2D)    (None, 512, 7, 7)     0           convolution2d_13[0][0]           \n",
      "____________________________________________________________________________________________________\n",
      "flatten_1 (Flatten)              (None, 25088)         0           maxpooling2d_5[0][0]             \n",
      "____________________________________________________________________________________________________\n",
      "dense_1 (Dense)                  (None, 4096)          102764544   flatten_1[0][0]                  \n",
      "____________________________________________________________________________________________________\n",
      "dropout_1 (Dropout)              (None, 4096)          0           dense_1[0][0]                    \n",
      "____________________________________________________________________________________________________\n",
      "dense_2 (Dense)                  (None, 4096)          16781312    dropout_1[0][0]                  \n",
      "____________________________________________________________________________________________________\n",
      "dropout_2 (Dropout)              (None, 4096)          0           dense_2[0][0]                    \n",
      "____________________________________________________________________________________________________\n",
      "dense_4 (Dense)                  (None, 10)            40970       dropout_2[0][0]                  \n",
      "====================================================================================================\n",
      "Total params: 134301514\n",
      "____________________________________________________________________________________________________\n"
     ]
    }
   ],
   "source": [
    "for layer in vgg.model.layers:\n",
    "    layer.trainable = True\n",
    "vgg.model.summary();"
   ]
  },
  {
   "cell_type": "code",
   "execution_count": 30,
   "metadata": {
    "collapsed": true,
    "hidden": true
   },
   "outputs": [],
   "source": [
    "vgg.model.optimizer.lr.set_value(0.00001)"
   ]
  },
  {
   "cell_type": "code",
   "execution_count": 31,
   "metadata": {
    "collapsed": false,
    "hidden": true
   },
   "outputs": [
    {
     "name": "stdout",
     "output_type": "stream",
     "text": [
      "Running epoch: 0\n",
      "Epoch 1/1\n",
      "20424/20424 [==============================] - 551s - loss: 0.7386 - acc: 0.7660 - val_loss: 0.2264 - val_acc: 0.9440\n",
      "Completed 1 fit operations\n"
     ]
    }
   ],
   "source": [
    "# re-train the last layer of the model & save the weights accordingly\n",
    "latest_weights_fn = None\n",
    "num_arch += 1\n",
    "for i in range(num_epochs):\n",
    "    print \"Running epoch: %d\" % i\n",
    "    vgg.model.fit_generator(batches,samples_per_epoch=batches.nb_sample,nb_epoch=1,\n",
    "                            validation_data=val_batches,nb_val_samples=val_batches.nb_sample)\n",
    "#    vgg.fit(batches,val_batches)\n",
    "    latest_weights_fn = 'ft%d_%d.h5' % (num_arch, i)\n",
    "    vgg.model.save_weights(results_path+latest_weights_fn)\n",
    "print \"Completed %d fit operations\" % num_epochs"
   ]
  },
  {
   "cell_type": "markdown",
   "metadata": {
    "heading_collapsed": true
   },
   "source": [
    "### From Scratch - 1"
   ]
  },
  {
   "cell_type": "code",
   "execution_count": 27,
   "metadata": {
    "collapsed": false,
    "hidden": true
   },
   "outputs": [],
   "source": [
    "# Build Keras model architecture from scratch\n",
    "model = Sequential()\n",
    "\n",
    "# Preprocessing\n",
    "model.add(BatchNormalization(axis=1,input_shape=(3,224,224)))\n",
    "\n",
    "# Convolution\n",
    "model.add(ZeroPadding2D((1,1)))\n",
    "model.add(Convolution2D(nb_filter=16,nb_row=3,nb_col=3,activation='relu'))\n",
    "model.add(BatchNormalization(axis=1))\n",
    "model.add(ZeroPadding2D((1,1)))\n",
    "model.add(Convolution2D(nb_filter=16,nb_row=3,nb_col=3,activation='relu'))\n",
    "model.add(MaxPooling2D(pool_size=(2,2),strides=(2,2)))\n",
    "model.add(BatchNormalization(axis=1))\n",
    "\n",
    "# Fully connected\n",
    "model.add(Flatten())\n",
    "model.add(Dense(1028,activation='relu'))\n",
    "model.add(BatchNormalization())\n",
    "model.add(Dropout(0.2))\n",
    "model.add(Dense(10,activation='softmax'))"
   ]
  },
  {
   "cell_type": "code",
   "execution_count": 28,
   "metadata": {
    "collapsed": false,
    "hidden": true
   },
   "outputs": [
    {
     "name": "stdout",
     "output_type": "stream",
     "text": [
      "____________________________________________________________________________________________________\n",
      "Layer (type)                     Output Shape          Param #     Connected to                     \n",
      "====================================================================================================\n",
      "batchnormalization_45 (BatchNorma(None, 3, 224, 224)   6           batchnormalization_input_5[0][0] \n",
      "____________________________________________________________________________________________________\n",
      "zeropadding2d_23 (ZeroPadding2D) (None, 3, 226, 226)   0           batchnormalization_45[0][0]      \n",
      "____________________________________________________________________________________________________\n",
      "convolution2d_23 (Convolution2D) (None, 16, 224, 224)  448         zeropadding2d_23[0][0]           \n",
      "____________________________________________________________________________________________________\n",
      "batchnormalization_46 (BatchNorma(None, 16, 224, 224)  32          convolution2d_23[0][0]           \n",
      "____________________________________________________________________________________________________\n",
      "zeropadding2d_24 (ZeroPadding2D) (None, 16, 226, 226)  0           batchnormalization_46[0][0]      \n",
      "____________________________________________________________________________________________________\n",
      "convolution2d_24 (Convolution2D) (None, 16, 224, 224)  2320        zeropadding2d_24[0][0]           \n",
      "____________________________________________________________________________________________________\n",
      "maxpooling2d_12 (MaxPooling2D)   (None, 16, 112, 112)  0           convolution2d_24[0][0]           \n",
      "____________________________________________________________________________________________________\n",
      "batchnormalization_47 (BatchNorma(None, 16, 112, 112)  32          maxpooling2d_12[0][0]            \n",
      "____________________________________________________________________________________________________\n",
      "flatten_5 (Flatten)              (None, 200704)        0           batchnormalization_47[0][0]      \n",
      "____________________________________________________________________________________________________\n",
      "dense_12 (Dense)                 (None, 1028)          206324740   flatten_5[0][0]                  \n",
      "____________________________________________________________________________________________________\n",
      "batchnormalization_48 (BatchNorma(None, 1028)          2056        dense_12[0][0]                   \n",
      "____________________________________________________________________________________________________\n",
      "dropout_8 (Dropout)              (None, 1028)          0           batchnormalization_48[0][0]      \n",
      "____________________________________________________________________________________________________\n",
      "dense_13 (Dense)                 (None, 10)            10290       dropout_8[0][0]                  \n",
      "====================================================================================================\n",
      "Total params: 206339924\n",
      "____________________________________________________________________________________________________\n"
     ]
    }
   ],
   "source": [
    "model.summary()"
   ]
  },
  {
   "cell_type": "code",
   "execution_count": 29,
   "metadata": {
    "collapsed": true,
    "hidden": true
   },
   "outputs": [],
   "source": [
    "# Compile\n",
    "model.compile(optimizer='Adam',loss='categorical_crossentropy',metrics=['accuracy'])"
   ]
  },
  {
   "cell_type": "code",
   "execution_count": 30,
   "metadata": {
    "collapsed": false,
    "hidden": true
   },
   "outputs": [],
   "source": [
    "# Train\n",
    "gen = image.ImageDataGenerator()\n",
    "batch_size = 64\n",
    "num_epochs = 3\n",
    "#arch = 0"
   ]
  },
  {
   "cell_type": "code",
   "execution_count": 31,
   "metadata": {
    "collapsed": false,
    "hidden": true
   },
   "outputs": [
    {
     "name": "stdout",
     "output_type": "stream",
     "text": [
      "Found 20424 images belonging to 10 classes.\n",
      "Found 2000 images belonging to 10 classes.\n"
     ]
    }
   ],
   "source": [
    "batches = gen.flow_from_directory(directory=train_path,\n",
    "                                  batch_size=batch_size,target_size=(224,224))\n",
    "val_batches = gen.flow_from_directory(directory=valid_path,\n",
    "                                      batch_size=2*batch_size,target_size=(224,224))"
   ]
  },
  {
   "cell_type": "code",
   "execution_count": 18,
   "metadata": {
    "collapsed": false,
    "hidden": true
   },
   "outputs": [],
   "source": [
    "imgs, labels = next(batches)\n",
    "\n",
    "plots(imgs,titles=labels)"
   ]
  },
  {
   "cell_type": "code",
   "execution_count": 32,
   "metadata": {
    "collapsed": false,
    "hidden": true
   },
   "outputs": [
    {
     "name": "stdout",
     "output_type": "stream",
     "text": [
      "Epoch 1/3\n",
      "20424/20424 [==============================] - 287s - loss: 0.4144 - acc: 0.9108 - val_loss: 0.4388 - val_acc: 0.8640\n",
      "Epoch 2/3\n",
      "20424/20424 [==============================] - 285s - loss: 0.0113 - acc: 0.9981 - val_loss: 0.0114 - val_acc: 0.9980\n",
      "Epoch 3/3\n",
      "20424/20424 [==============================] - 280s - loss: 0.0036 - acc: 0.9995 - val_loss: 0.0049 - val_acc: 0.9985\n"
     ]
    }
   ],
   "source": [
    "model.fit_generator(batches,samples_per_epoch=batches.nb_sample,nb_epoch=num_epochs,\n",
    "                    validation_data=val_batches,nb_val_samples=val_batches.nb_sample)\n",
    "latest_weights = 'scratch_model%d.h5' %arch\n",
    "model.save_weights(results_path+latest_weights)\n",
    "arch += 1"
   ]
  },
  {
   "cell_type": "markdown",
   "metadata": {
    "heading_collapsed": true
   },
   "source": [
    "### From Scratch - 2"
   ]
  },
  {
   "cell_type": "code",
   "execution_count": 196,
   "metadata": {
    "collapsed": false,
    "hidden": true
   },
   "outputs": [],
   "source": [
    "# Build Keras model architecture from scratch\n",
    "model = Sequential()\n",
    "\n",
    "# Preprocessing\n",
    "model.add(BatchNormalization(axis=1,input_shape=(3,224,224)))\n",
    "\n",
    "# Convolution\n",
    "model.add(ZeroPadding2D((1,1)))\n",
    "model.add(Convolution2D(nb_filter=64,nb_row=3,nb_col=3,activation='relu'))\n",
    "model.add(BatchNormalization(axis=1))\n",
    "model.add(ZeroPadding2D((1,1)))\n",
    "model.add(Convolution2D(nb_filter=64,nb_row=3,nb_col=3,activation='relu'))\n",
    "model.add(MaxPooling2D(pool_size=(2,2),strides=(2,2)))\n",
    "model.add(BatchNormalization(axis=1))\n",
    "\n",
    "model.add(ZeroPadding2D((1,1)))\n",
    "model.add(Convolution2D(nb_filter=64,nb_row=3,nb_col=3,activation='relu'))\n",
    "model.add(BatchNormalization(axis=1))\n",
    "model.add(ZeroPadding2D((1,1)))\n",
    "model.add(Convolution2D(nb_filter=64,nb_row=3,nb_col=3,activation='relu'))\n",
    "model.add(MaxPooling2D(pool_size=(2,2),strides=(2,2)))\n",
    "model.add(BatchNormalization(axis=1))\n",
    "\n",
    "model.add(ZeroPadding2D((1,1)))\n",
    "model.add(Convolution2D(nb_filter=64,nb_row=3,nb_col=3,activation='relu'))\n",
    "model.add(BatchNormalization(axis=1))\n",
    "model.add(ZeroPadding2D((1,1)))\n",
    "model.add(Convolution2D(nb_filter=64,nb_row=3,nb_col=3,activation='relu'))\n",
    "model.add(MaxPooling2D(pool_size=(2,2),strides=(2,2)))\n",
    "model.add(BatchNormalization(axis=1))\n",
    "\n",
    "model.add(ZeroPadding2D((1,1)))\n",
    "model.add(Convolution2D(nb_filter=64,nb_row=3,nb_col=3,activation='relu'))\n",
    "model.add(BatchNormalization(axis=1))\n",
    "model.add(ZeroPadding2D((1,1)))\n",
    "model.add(Convolution2D(nb_filter=64,nb_row=3,nb_col=3,activation='relu'))\n",
    "model.add(MaxPooling2D(pool_size=(2,2),strides=(2,2)))\n",
    "model.add(BatchNormalization(axis=1))\n",
    "\n",
    "# Fully connected\n",
    "model.add(Flatten())\n",
    "p = 0.\n",
    "model.add(Dense(4096,activation='relu'))\n",
    "model.add(BatchNormalization())\n",
    "model.add(Dropout(p))\n",
    "model.add(Dense(2048,activation='relu'))\n",
    "model.add(BatchNormalization())\n",
    "model.add(Dropout(p))\n",
    "model.add(Dense(1024,activation='relu'))\n",
    "model.add(BatchNormalization())\n",
    "model.add(Dropout(p))\n",
    "model.add(Dense(1024,activation='relu'))\n",
    "model.add(BatchNormalization())\n",
    "model.add(Dropout(p))\n",
    "model.add(Dense(1024,activation='relu'))\n",
    "model.add(BatchNormalization())\n",
    "model.add(Dropout(p))\n",
    "model.add(Dense(128,activation='relu'))\n",
    "model.add(BatchNormalization())\n",
    "model.add(Dropout(p))\n",
    "model.add(Dense(128,activation='relu'))\n",
    "model.add(BatchNormalization())\n",
    "model.add(Dropout(p))\n",
    "model.add(Dense(128,activation='relu'))\n",
    "model.add(BatchNormalization())\n",
    "model.add(Dropout(p))\n",
    "model.add(Dense(10,activation='softmax'))"
   ]
  },
  {
   "cell_type": "code",
   "execution_count": 197,
   "metadata": {
    "collapsed": false,
    "hidden": true
   },
   "outputs": [
    {
     "name": "stdout",
     "output_type": "stream",
     "text": [
      "____________________________________________________________________________________________________\n",
      "Layer (type)                     Output Shape          Param #     Connected to                     \n",
      "====================================================================================================\n",
      "batchnormalization_256 (BatchNorm(None, 3, 224, 224)   6           batchnormalization_input_20[0][0]\n",
      "____________________________________________________________________________________________________\n",
      "zeropadding2d_173 (ZeroPadding2D)(None, 3, 226, 226)   0           batchnormalization_256[0][0]     \n",
      "____________________________________________________________________________________________________\n",
      "convolution2d_173 (Convolution2D)(None, 64, 224, 224)  1792        zeropadding2d_173[0][0]          \n",
      "____________________________________________________________________________________________________\n",
      "batchnormalization_257 (BatchNorm(None, 64, 224, 224)  128         convolution2d_173[0][0]          \n",
      "____________________________________________________________________________________________________\n",
      "zeropadding2d_174 (ZeroPadding2D)(None, 64, 226, 226)  0           batchnormalization_257[0][0]     \n",
      "____________________________________________________________________________________________________\n",
      "convolution2d_174 (Convolution2D)(None, 64, 224, 224)  36928       zeropadding2d_174[0][0]          \n",
      "____________________________________________________________________________________________________\n",
      "maxpooling2d_87 (MaxPooling2D)   (None, 64, 112, 112)  0           convolution2d_174[0][0]          \n",
      "____________________________________________________________________________________________________\n",
      "batchnormalization_258 (BatchNorm(None, 64, 112, 112)  128         maxpooling2d_87[0][0]            \n",
      "____________________________________________________________________________________________________\n",
      "zeropadding2d_175 (ZeroPadding2D)(None, 64, 114, 114)  0           batchnormalization_258[0][0]     \n",
      "____________________________________________________________________________________________________\n",
      "convolution2d_175 (Convolution2D)(None, 64, 112, 112)  36928       zeropadding2d_175[0][0]          \n",
      "____________________________________________________________________________________________________\n",
      "batchnormalization_259 (BatchNorm(None, 64, 112, 112)  128         convolution2d_175[0][0]          \n",
      "____________________________________________________________________________________________________\n",
      "zeropadding2d_176 (ZeroPadding2D)(None, 64, 114, 114)  0           batchnormalization_259[0][0]     \n",
      "____________________________________________________________________________________________________\n",
      "convolution2d_176 (Convolution2D)(None, 64, 112, 112)  36928       zeropadding2d_176[0][0]          \n",
      "____________________________________________________________________________________________________\n",
      "maxpooling2d_88 (MaxPooling2D)   (None, 64, 56, 56)    0           convolution2d_176[0][0]          \n",
      "____________________________________________________________________________________________________\n",
      "batchnormalization_260 (BatchNorm(None, 64, 56, 56)    128         maxpooling2d_88[0][0]            \n",
      "____________________________________________________________________________________________________\n",
      "zeropadding2d_177 (ZeroPadding2D)(None, 64, 58, 58)    0           batchnormalization_260[0][0]     \n",
      "____________________________________________________________________________________________________\n",
      "convolution2d_177 (Convolution2D)(None, 64, 56, 56)    36928       zeropadding2d_177[0][0]          \n",
      "____________________________________________________________________________________________________\n",
      "batchnormalization_261 (BatchNorm(None, 64, 56, 56)    128         convolution2d_177[0][0]          \n",
      "____________________________________________________________________________________________________\n",
      "zeropadding2d_178 (ZeroPadding2D)(None, 64, 58, 58)    0           batchnormalization_261[0][0]     \n",
      "____________________________________________________________________________________________________\n",
      "convolution2d_178 (Convolution2D)(None, 64, 56, 56)    36928       zeropadding2d_178[0][0]          \n",
      "____________________________________________________________________________________________________\n",
      "maxpooling2d_89 (MaxPooling2D)   (None, 64, 28, 28)    0           convolution2d_178[0][0]          \n",
      "____________________________________________________________________________________________________\n",
      "batchnormalization_262 (BatchNorm(None, 64, 28, 28)    128         maxpooling2d_89[0][0]            \n",
      "____________________________________________________________________________________________________\n",
      "zeropadding2d_179 (ZeroPadding2D)(None, 64, 30, 30)    0           batchnormalization_262[0][0]     \n",
      "____________________________________________________________________________________________________\n",
      "convolution2d_179 (Convolution2D)(None, 64, 28, 28)    36928       zeropadding2d_179[0][0]          \n",
      "____________________________________________________________________________________________________\n",
      "batchnormalization_263 (BatchNorm(None, 64, 28, 28)    128         convolution2d_179[0][0]          \n",
      "____________________________________________________________________________________________________\n",
      "zeropadding2d_180 (ZeroPadding2D)(None, 64, 30, 30)    0           batchnormalization_263[0][0]     \n",
      "____________________________________________________________________________________________________\n",
      "convolution2d_180 (Convolution2D)(None, 64, 28, 28)    36928       zeropadding2d_180[0][0]          \n",
      "____________________________________________________________________________________________________\n",
      "maxpooling2d_90 (MaxPooling2D)   (None, 64, 14, 14)    0           convolution2d_180[0][0]          \n",
      "____________________________________________________________________________________________________\n",
      "batchnormalization_264 (BatchNorm(None, 64, 14, 14)    128         maxpooling2d_90[0][0]            \n",
      "____________________________________________________________________________________________________\n",
      "flatten_20 (Flatten)             (None, 12544)         0           batchnormalization_264[0][0]     \n",
      "____________________________________________________________________________________________________\n",
      "dense_84 (Dense)                 (None, 4096)          51384320    flatten_20[0][0]                 \n",
      "____________________________________________________________________________________________________\n",
      "batchnormalization_265 (BatchNorm(None, 4096)          8192        dense_84[0][0]                   \n",
      "____________________________________________________________________________________________________\n",
      "dropout_65 (Dropout)             (None, 4096)          0           batchnormalization_265[0][0]     \n",
      "____________________________________________________________________________________________________\n",
      "dense_85 (Dense)                 (None, 2048)          8390656     dropout_65[0][0]                 \n",
      "____________________________________________________________________________________________________\n",
      "batchnormalization_266 (BatchNorm(None, 2048)          4096        dense_85[0][0]                   \n",
      "____________________________________________________________________________________________________\n",
      "dropout_66 (Dropout)             (None, 2048)          0           batchnormalization_266[0][0]     \n",
      "____________________________________________________________________________________________________\n",
      "dense_86 (Dense)                 (None, 1024)          2098176     dropout_66[0][0]                 \n",
      "____________________________________________________________________________________________________\n",
      "batchnormalization_267 (BatchNorm(None, 1024)          2048        dense_86[0][0]                   \n",
      "____________________________________________________________________________________________________\n",
      "dropout_67 (Dropout)             (None, 1024)          0           batchnormalization_267[0][0]     \n",
      "____________________________________________________________________________________________________\n",
      "dense_87 (Dense)                 (None, 1024)          1049600     dropout_67[0][0]                 \n",
      "____________________________________________________________________________________________________\n",
      "batchnormalization_268 (BatchNorm(None, 1024)          2048        dense_87[0][0]                   \n",
      "____________________________________________________________________________________________________\n",
      "dropout_68 (Dropout)             (None, 1024)          0           batchnormalization_268[0][0]     \n",
      "____________________________________________________________________________________________________\n",
      "dense_88 (Dense)                 (None, 1024)          1049600     dropout_68[0][0]                 \n",
      "____________________________________________________________________________________________________\n",
      "batchnormalization_269 (BatchNorm(None, 1024)          2048        dense_88[0][0]                   \n",
      "____________________________________________________________________________________________________\n",
      "dropout_69 (Dropout)             (None, 1024)          0           batchnormalization_269[0][0]     \n",
      "____________________________________________________________________________________________________\n",
      "dense_89 (Dense)                 (None, 128)           131200      dropout_69[0][0]                 \n",
      "____________________________________________________________________________________________________\n",
      "batchnormalization_270 (BatchNorm(None, 128)           256         dense_89[0][0]                   \n",
      "____________________________________________________________________________________________________\n",
      "dropout_70 (Dropout)             (None, 128)           0           batchnormalization_270[0][0]     \n",
      "____________________________________________________________________________________________________\n",
      "dense_90 (Dense)                 (None, 128)           16512       dropout_70[0][0]                 \n",
      "____________________________________________________________________________________________________\n",
      "batchnormalization_271 (BatchNorm(None, 128)           256         dense_90[0][0]                   \n",
      "____________________________________________________________________________________________________\n",
      "dropout_71 (Dropout)             (None, 128)           0           batchnormalization_271[0][0]     \n",
      "____________________________________________________________________________________________________\n",
      "dense_91 (Dense)                 (None, 128)           16512       dropout_71[0][0]                 \n",
      "____________________________________________________________________________________________________\n",
      "batchnormalization_272 (BatchNorm(None, 128)           256         dense_91[0][0]                   \n",
      "____________________________________________________________________________________________________\n",
      "dropout_72 (Dropout)             (None, 128)           0           batchnormalization_272[0][0]     \n",
      "____________________________________________________________________________________________________\n",
      "dense_92 (Dense)                 (None, 10)            1290        dropout_72[0][0]                 \n",
      "====================================================================================================\n",
      "Total params: 64418384\n",
      "____________________________________________________________________________________________________\n"
     ]
    }
   ],
   "source": [
    "model.summary()"
   ]
  },
  {
   "cell_type": "code",
   "execution_count": 198,
   "metadata": {
    "collapsed": false,
    "hidden": true
   },
   "outputs": [],
   "source": [
    "# Compile\n",
    "model.compile(optimizer='Adam',loss='categorical_crossentropy',metrics=['accuracy'])"
   ]
  },
  {
   "cell_type": "code",
   "execution_count": 212,
   "metadata": {
    "collapsed": false,
    "hidden": true
   },
   "outputs": [],
   "source": [
    "# Train\n",
    "batch_size = 32\n",
    "num_epochs = 3\n",
    "#arch = 5"
   ]
  },
  {
   "cell_type": "code",
   "execution_count": 213,
   "metadata": {
    "collapsed": false,
    "hidden": true
   },
   "outputs": [
    {
     "name": "stdout",
     "output_type": "stream",
     "text": [
      "Found 19455 images belonging to 10 classes.\n",
      "Found 2969 images belonging to 10 classes.\n"
     ]
    }
   ],
   "source": [
    "gen = image.ImageDataGenerator(rotation_range=12, width_shift_range=0.15, \n",
    "       height_shift_range=0.15, shear_range=0.15, zoom_range=0.2, \n",
    "       channel_shift_range=10., dim_ordering='th')\n",
    "batches = gen.flow_from_directory(directory=train_path,\n",
    "                                  batch_size=batch_size,target_size=(224,224))\n",
    "val_batches = gen.flow_from_directory(directory=valid_path,\n",
    "                                      batch_size=2*batch_size,target_size=(224,224))"
   ]
  },
  {
   "cell_type": "code",
   "execution_count": 201,
   "metadata": {
    "collapsed": false,
    "hidden": true
   },
   "outputs": [],
   "source": [
    "#imgs, labels = next(batches)\n",
    "\n",
    "#plots(imgs[:4],titles=labels[:4])"
   ]
  },
  {
   "cell_type": "code",
   "execution_count": 214,
   "metadata": {
    "collapsed": false,
    "hidden": true
   },
   "outputs": [
    {
     "name": "stdout",
     "output_type": "stream",
     "text": [
      "Epoch 1/3\n",
      "19455/19455 [==============================] - 923s - loss: 0.1434 - acc: 0.9562 - val_loss: 0.3670 - val_acc: 0.8868\n",
      "Epoch 2/3\n",
      "19455/19455 [==============================] - 922s - loss: 0.1340 - acc: 0.9600 - val_loss: 0.3159 - val_acc: 0.8993\n",
      "Epoch 3/3\n",
      "19455/19455 [==============================] - 923s - loss: 0.1130 - acc: 0.9667 - val_loss: 0.2870 - val_acc: 0.9017\n"
     ]
    }
   ],
   "source": [
    "model.fit_generator(batches,samples_per_epoch=batches.nb_sample,nb_epoch=num_epochs,\n",
    "                    validation_data=val_batches,nb_val_samples=val_batches.nb_sample)\n",
    "latest_weights = 'scratch_model%d.h5' %arch\n",
    "model.save_weights(results_path+latest_weights)\n",
    "arch += 1"
   ]
  },
  {
   "cell_type": "markdown",
   "metadata": {},
   "source": [
    "### From Scratch - 3"
   ]
  },
  {
   "cell_type": "code",
   "execution_count": 32,
   "metadata": {
    "collapsed": false
   },
   "outputs": [],
   "source": [
    "# Build Keras model architecture from scratch\n",
    "model = Sequential()\n",
    "\n",
    "# Preprocessing\n",
    "model.add(BatchNormalization(axis=1,input_shape=(3,224,224)))\n",
    "\n",
    "# Convolution\n",
    "model.add(ZeroPadding2D((1,1)))\n",
    "model.add(Convolution2D(nb_filter=64,nb_row=3,nb_col=3,activation='relu'))\n",
    "model.add(BatchNormalization(axis=1))\n",
    "model.add(ZeroPadding2D((1,1)))\n",
    "model.add(Convolution2D(nb_filter=64,nb_row=3,nb_col=3,activation='relu'))\n",
    "model.add(MaxPooling2D(pool_size=(2,2),strides=(2,2)))\n",
    "model.add(BatchNormalization(axis=1))\n",
    "\n",
    "model.add(ZeroPadding2D((1,1)))\n",
    "model.add(Convolution2D(nb_filter=128,nb_row=3,nb_col=3,activation='relu'))\n",
    "model.add(BatchNormalization(axis=1))\n",
    "model.add(ZeroPadding2D((1,1)))\n",
    "model.add(Convolution2D(nb_filter=128,nb_row=3,nb_col=3,activation='relu'))\n",
    "model.add(MaxPooling2D(pool_size=(2,2),strides=(2,2)))\n",
    "model.add(BatchNormalization(axis=1))\n",
    "\n",
    "model.add(ZeroPadding2D((1,1)))\n",
    "model.add(Convolution2D(nb_filter=256,nb_row=3,nb_col=3,activation='relu'))\n",
    "model.add(BatchNormalization(axis=1))\n",
    "model.add(ZeroPadding2D((1,1)))\n",
    "model.add(Convolution2D(nb_filter=256,nb_row=3,nb_col=3,activation='relu'))\n",
    "model.add(MaxPooling2D(pool_size=(2,2),strides=(2,2)))\n",
    "model.add(BatchNormalization(axis=1))\n",
    "\n",
    "model.add(ZeroPadding2D((1,1)))\n",
    "model.add(Convolution2D(nb_filter=512,nb_row=3,nb_col=3,activation='relu'))\n",
    "model.add(BatchNormalization(axis=1))\n",
    "model.add(ZeroPadding2D((1,1)))\n",
    "model.add(Convolution2D(nb_filter=512,nb_row=3,nb_col=3,activation='relu'))\n",
    "model.add(MaxPooling2D(pool_size=(2,2),strides=(2,2)))\n",
    "model.add(BatchNormalization(axis=1))\n",
    "\n",
    "model.add(ZeroPadding2D((1,1)))\n",
    "model.add(Convolution2D(nb_filter=512,nb_row=3,nb_col=3,activation='relu'))\n",
    "model.add(BatchNormalization(axis=1))\n",
    "model.add(ZeroPadding2D((1,1)))\n",
    "model.add(Convolution2D(nb_filter=512,nb_row=3,nb_col=3,activation='relu'))\n",
    "model.add(MaxPooling2D(pool_size=(2,2),strides=(2,2)))\n",
    "model.add(BatchNormalization(axis=1))\n",
    "\n",
    "# Fully connected\n",
    "model.add(Flatten())\n",
    "p = 0.6\n",
    "model.add(Dense(4096,activation='relu'))\n",
    "model.add(BatchNormalization())\n",
    "model.add(Dropout(p))\n",
    "model.add(Dense(4096,activation='relu'))\n",
    "model.add(BatchNormalization())\n",
    "model.add(Dropout(p))\n",
    "model.add(Dense(10,activation='softmax'))"
   ]
  },
  {
   "cell_type": "code",
   "execution_count": 33,
   "metadata": {
    "collapsed": false
   },
   "outputs": [
    {
     "name": "stdout",
     "output_type": "stream",
     "text": [
      "____________________________________________________________________________________________________\n",
      "Layer (type)                     Output Shape          Param #     Connected to                     \n",
      "====================================================================================================\n",
      "batchnormalization_65 (BatchNorma(None, 3, 224, 224)   6           batchnormalization_input_5[0][0] \n",
      "____________________________________________________________________________________________________\n",
      "zeropadding2d_41 (ZeroPadding2D) (None, 3, 226, 226)   0           batchnormalization_65[0][0]      \n",
      "____________________________________________________________________________________________________\n",
      "convolution2d_41 (Convolution2D) (None, 64, 224, 224)  1792        zeropadding2d_41[0][0]           \n",
      "____________________________________________________________________________________________________\n",
      "batchnormalization_66 (BatchNorma(None, 64, 224, 224)  128         convolution2d_41[0][0]           \n",
      "____________________________________________________________________________________________________\n",
      "zeropadding2d_42 (ZeroPadding2D) (None, 64, 226, 226)  0           batchnormalization_66[0][0]      \n",
      "____________________________________________________________________________________________________\n",
      "convolution2d_42 (Convolution2D) (None, 64, 224, 224)  36928       zeropadding2d_42[0][0]           \n",
      "____________________________________________________________________________________________________\n",
      "maxpooling2d_21 (MaxPooling2D)   (None, 64, 112, 112)  0           convolution2d_42[0][0]           \n",
      "____________________________________________________________________________________________________\n",
      "batchnormalization_67 (BatchNorma(None, 64, 112, 112)  128         maxpooling2d_21[0][0]            \n",
      "____________________________________________________________________________________________________\n",
      "zeropadding2d_43 (ZeroPadding2D) (None, 64, 114, 114)  0           batchnormalization_67[0][0]      \n",
      "____________________________________________________________________________________________________\n",
      "convolution2d_43 (Convolution2D) (None, 64, 112, 112)  36928       zeropadding2d_43[0][0]           \n",
      "____________________________________________________________________________________________________\n",
      "batchnormalization_68 (BatchNorma(None, 64, 112, 112)  128         convolution2d_43[0][0]           \n",
      "____________________________________________________________________________________________________\n",
      "zeropadding2d_44 (ZeroPadding2D) (None, 64, 114, 114)  0           batchnormalization_68[0][0]      \n",
      "____________________________________________________________________________________________________\n",
      "convolution2d_44 (Convolution2D) (None, 64, 112, 112)  36928       zeropadding2d_44[0][0]           \n",
      "____________________________________________________________________________________________________\n",
      "maxpooling2d_22 (MaxPooling2D)   (None, 64, 56, 56)    0           convolution2d_44[0][0]           \n",
      "____________________________________________________________________________________________________\n",
      "batchnormalization_69 (BatchNorma(None, 64, 56, 56)    128         maxpooling2d_22[0][0]            \n",
      "____________________________________________________________________________________________________\n",
      "zeropadding2d_45 (ZeroPadding2D) (None, 64, 58, 58)    0           batchnormalization_69[0][0]      \n",
      "____________________________________________________________________________________________________\n",
      "convolution2d_45 (Convolution2D) (None, 64, 56, 56)    36928       zeropadding2d_45[0][0]           \n",
      "____________________________________________________________________________________________________\n",
      "batchnormalization_70 (BatchNorma(None, 64, 56, 56)    128         convolution2d_45[0][0]           \n",
      "____________________________________________________________________________________________________\n",
      "zeropadding2d_46 (ZeroPadding2D) (None, 64, 58, 58)    0           batchnormalization_70[0][0]      \n",
      "____________________________________________________________________________________________________\n",
      "convolution2d_46 (Convolution2D) (None, 64, 56, 56)    36928       zeropadding2d_46[0][0]           \n",
      "____________________________________________________________________________________________________\n",
      "maxpooling2d_23 (MaxPooling2D)   (None, 64, 28, 28)    0           convolution2d_46[0][0]           \n",
      "____________________________________________________________________________________________________\n",
      "batchnormalization_71 (BatchNorma(None, 64, 28, 28)    128         maxpooling2d_23[0][0]            \n",
      "____________________________________________________________________________________________________\n",
      "zeropadding2d_47 (ZeroPadding2D) (None, 64, 30, 30)    0           batchnormalization_71[0][0]      \n",
      "____________________________________________________________________________________________________\n",
      "convolution2d_47 (Convolution2D) (None, 64, 28, 28)    36928       zeropadding2d_47[0][0]           \n",
      "____________________________________________________________________________________________________\n",
      "batchnormalization_72 (BatchNorma(None, 64, 28, 28)    128         convolution2d_47[0][0]           \n",
      "____________________________________________________________________________________________________\n",
      "zeropadding2d_48 (ZeroPadding2D) (None, 64, 30, 30)    0           batchnormalization_72[0][0]      \n",
      "____________________________________________________________________________________________________\n",
      "convolution2d_48 (Convolution2D) (None, 64, 28, 28)    36928       zeropadding2d_48[0][0]           \n",
      "____________________________________________________________________________________________________\n",
      "maxpooling2d_24 (MaxPooling2D)   (None, 64, 14, 14)    0           convolution2d_48[0][0]           \n",
      "____________________________________________________________________________________________________\n",
      "batchnormalization_73 (BatchNorma(None, 64, 14, 14)    128         maxpooling2d_24[0][0]            \n",
      "____________________________________________________________________________________________________\n",
      "zeropadding2d_49 (ZeroPadding2D) (None, 64, 16, 16)    0           batchnormalization_73[0][0]      \n",
      "____________________________________________________________________________________________________\n",
      "convolution2d_49 (Convolution2D) (None, 64, 14, 14)    36928       zeropadding2d_49[0][0]           \n",
      "____________________________________________________________________________________________________\n",
      "batchnormalization_74 (BatchNorma(None, 64, 14, 14)    128         convolution2d_49[0][0]           \n",
      "____________________________________________________________________________________________________\n",
      "zeropadding2d_50 (ZeroPadding2D) (None, 64, 16, 16)    0           batchnormalization_74[0][0]      \n",
      "____________________________________________________________________________________________________\n",
      "convolution2d_50 (Convolution2D) (None, 64, 14, 14)    36928       zeropadding2d_50[0][0]           \n",
      "____________________________________________________________________________________________________\n",
      "maxpooling2d_25 (MaxPooling2D)   (None, 64, 7, 7)      0           convolution2d_50[0][0]           \n",
      "____________________________________________________________________________________________________\n",
      "batchnormalization_75 (BatchNorma(None, 64, 7, 7)      128         maxpooling2d_25[0][0]            \n",
      "____________________________________________________________________________________________________\n",
      "flatten_5 (Flatten)              (None, 3136)          0           batchnormalization_75[0][0]      \n",
      "____________________________________________________________________________________________________\n",
      "dense_25 (Dense)                 (None, 1024)          3212288     flatten_5[0][0]                  \n",
      "____________________________________________________________________________________________________\n",
      "batchnormalization_76 (BatchNorma(None, 1024)          2048        dense_25[0][0]                   \n",
      "____________________________________________________________________________________________________\n",
      "dropout_21 (Dropout)             (None, 1024)          0           batchnormalization_76[0][0]      \n",
      "____________________________________________________________________________________________________\n",
      "dense_26 (Dense)                 (None, 1024)          1049600     dropout_21[0][0]                 \n",
      "____________________________________________________________________________________________________\n",
      "batchnormalization_77 (BatchNorma(None, 1024)          2048        dense_26[0][0]                   \n",
      "____________________________________________________________________________________________________\n",
      "dropout_22 (Dropout)             (None, 1024)          0           batchnormalization_77[0][0]      \n",
      "____________________________________________________________________________________________________\n",
      "dense_27 (Dense)                 (None, 1024)          1049600     dropout_22[0][0]                 \n",
      "____________________________________________________________________________________________________\n",
      "batchnormalization_78 (BatchNorma(None, 1024)          2048        dense_27[0][0]                   \n",
      "____________________________________________________________________________________________________\n",
      "dropout_23 (Dropout)             (None, 1024)          0           batchnormalization_78[0][0]      \n",
      "____________________________________________________________________________________________________\n",
      "dense_28 (Dense)                 (None, 1024)          1049600     dropout_23[0][0]                 \n",
      "____________________________________________________________________________________________________\n",
      "batchnormalization_79 (BatchNorma(None, 1024)          2048        dense_28[0][0]                   \n",
      "____________________________________________________________________________________________________\n",
      "dropout_24 (Dropout)             (None, 1024)          0           batchnormalization_79[0][0]      \n",
      "____________________________________________________________________________________________________\n",
      "dense_29 (Dense)                 (None, 1024)          1049600     dropout_24[0][0]                 \n",
      "____________________________________________________________________________________________________\n",
      "batchnormalization_80 (BatchNorma(None, 1024)          2048        dense_29[0][0]                   \n",
      "____________________________________________________________________________________________________\n",
      "dropout_25 (Dropout)             (None, 1024)          0           batchnormalization_80[0][0]      \n",
      "____________________________________________________________________________________________________\n",
      "dense_30 (Dense)                 (None, 10)            10250       dropout_25[0][0]                 \n",
      "====================================================================================================\n",
      "Total params: 7766608\n",
      "____________________________________________________________________________________________________\n"
     ]
    }
   ],
   "source": [
    "model.summary()"
   ]
  },
  {
   "cell_type": "code",
   "execution_count": 34,
   "metadata": {
    "collapsed": false
   },
   "outputs": [],
   "source": [
    "# Compile\n",
    "model.compile(optimizer='Adam',loss='categorical_crossentropy',metrics=['accuracy'])"
   ]
  },
  {
   "cell_type": "code",
   "execution_count": 35,
   "metadata": {
    "collapsed": false
   },
   "outputs": [],
   "source": [
    "# Train\n",
    "batch_size = 64\n",
    "num_epochs = 1\n",
    "#arch = 23"
   ]
  },
  {
   "cell_type": "code",
   "execution_count": 36,
   "metadata": {
    "collapsed": false
   },
   "outputs": [
    {
     "name": "stdout",
     "output_type": "stream",
     "text": [
      "Found 19455 images belonging to 10 classes.\n",
      "Found 2969 images belonging to 10 classes.\n"
     ]
    }
   ],
   "source": [
    "gen = image.ImageDataGenerator(rotation_range=12, width_shift_range=0.15, \n",
    "       height_shift_range=0.15, shear_range=0.15, zoom_range=0.2, \n",
    "       channel_shift_range=10., dim_ordering='th')\n",
    "batches = gen.flow_from_directory(directory=train_path,\n",
    "                                  batch_size=batch_size,target_size=(224,224))\n",
    "val_batches = gen.flow_from_directory(directory=valid_path,\n",
    "                                      batch_size=2*batch_size,target_size=(224,224))"
   ]
  },
  {
   "cell_type": "code",
   "execution_count": 37,
   "metadata": {
    "collapsed": false
   },
   "outputs": [],
   "source": [
    "#imgs, labels = next(batches)\n",
    "\n",
    "#plots(imgs[:4],titles=labels[:4])"
   ]
  },
  {
   "cell_type": "code",
   "execution_count": 39,
   "metadata": {
    "collapsed": false,
    "scrolled": true
   },
   "outputs": [
    {
     "name": "stdout",
     "output_type": "stream",
     "text": [
      "Epoch 1/3\n",
      "19455/19455 [==============================] - 875s - loss: 0.6976 - acc: 0.7630 - val_loss: 2.2901 - val_acc: 0.4746\n",
      "Epoch 2/3\n",
      "19455/19455 [==============================] - 876s - loss: 0.5552 - acc: 0.8180 - val_loss: 0.7413 - val_acc: 0.7767\n",
      "Epoch 3/3\n",
      "19455/19455 [==============================] - 875s - loss: 0.4285 - acc: 0.8641 - val_loss: 0.8372 - val_acc: 0.7413\n"
     ]
    }
   ],
   "source": [
    "model.fit_generator(batches,samples_per_epoch=batches.nb_sample,nb_epoch=num_epochs,\n",
    "                    validation_data=val_batches,nb_val_samples=val_batches.nb_sample)\n",
    "latest_weights = 'scratch_model%d.h5' %arch\n",
    "model.save_weights(results_path+latest_weights)\n",
    "arch += 1"
   ]
  },
  {
   "cell_type": "markdown",
   "metadata": {},
   "source": [
    "## Generate & valid predictions"
   ]
  },
  {
   "cell_type": "code",
   "execution_count": 215,
   "metadata": {
    "collapsed": false
   },
   "outputs": [
    {
     "name": "stdout",
     "output_type": "stream",
     "text": [
      "Found 79726 images belonging to 1 classes.\n"
     ]
    }
   ],
   "source": [
    "# generate predictions\n",
    "gen = image.ImageDataGenerator()\n",
    "test_batches = gen.flow_from_directory(test_path,target_size=(224,224),\n",
    "                                       shuffle=False,class_mode=None,batch_size=batch_size)"
   ]
  },
  {
   "cell_type": "code",
   "execution_count": 216,
   "metadata": {
    "collapsed": true
   },
   "outputs": [],
   "source": [
    "preds = model.predict_generator(test_batches,val_samples=test_batches.nb_sample)"
   ]
  },
  {
   "cell_type": "code",
   "execution_count": 217,
   "metadata": {
    "collapsed": false
   },
   "outputs": [
    {
     "name": "stdout",
     "output_type": "stream",
     "text": [
      "[[  5.0003e-03   5.5157e-02   1.0565e-02   2.4860e-04   7.7472e-04   4.6769e-04   2.7351e-01\n",
      "    7.5514e-03   1.2908e-01   5.1765e-01]\n",
      " [  7.7406e-01   1.6244e-03   2.2802e-04   2.0790e-04   5.5991e-05   1.1218e-02   4.0555e-05\n",
      "    1.2217e-01   1.0642e-02   7.9751e-02]\n",
      " [  2.7501e-04   9.6837e-05   8.9538e-04   1.5659e-04   9.9592e-01   8.9740e-05   1.7367e-04\n",
      "    1.5768e-05   2.1299e-03   2.5108e-04]\n",
      " [  4.2851e-04   1.1455e-06   7.5924e-04   7.6887e-06   8.7917e-05   2.8458e-05   7.9572e-04\n",
      "    3.0907e-04   9.9682e-01   7.6335e-04]\n",
      " [  1.0056e-02   9.7209e-01   1.6908e-03   3.4534e-03   1.1346e-03   1.6580e-04   7.7855e-03\n",
      "    5.2233e-04   1.5933e-03   1.5079e-03]]\n",
      "['unknown/img_81601.jpg', 'unknown/img_14887.jpg', 'unknown/img_62885.jpg', 'unknown/img_45125.jpg', 'unknown/img_22633.jpg']\n"
     ]
    }
   ],
   "source": [
    "print preds[:5]\n",
    "\n",
    "filenames = test_batches.filenames\n",
    "print filenames[:5]"
   ]
  },
  {
   "cell_type": "code",
   "execution_count": 218,
   "metadata": {
    "collapsed": true
   },
   "outputs": [],
   "source": [
    "# save predictions\n",
    "save_array(results_path+'test_preds.dat',preds)\n",
    "save_array(results_path+'filenames.dat',filenames)"
   ]
  },
  {
   "cell_type": "code",
   "execution_count": 219,
   "metadata": {
    "collapsed": true
   },
   "outputs": [],
   "source": [
    "# validate predictions\n",
    "# "
   ]
  },
  {
   "cell_type": "markdown",
   "metadata": {},
   "source": [
    "## Submit"
   ]
  },
  {
   "cell_type": "code",
   "execution_count": 220,
   "metadata": {
    "collapsed": true
   },
   "outputs": [],
   "source": [
    "# extra the img filenames\n",
    "img_filenames = np.array([f[8:] for f in filenames])"
   ]
  },
  {
   "cell_type": "code",
   "execution_count": 221,
   "metadata": {
    "collapsed": true
   },
   "outputs": [],
   "source": [
    "# clean / clip probabilities\n",
    "def do_clip(array, mx): return np.clip(array, (1-mx)/9,mx)"
   ]
  },
  {
   "cell_type": "code",
   "execution_count": 222,
   "metadata": {
    "collapsed": false
   },
   "outputs": [
    {
     "name": "stdout",
     "output_type": "stream",
     "text": [
      "Found 2969 images belonging to 10 classes.\n"
     ]
    }
   ],
   "source": [
    "gen = image.ImageDataGenerator()\n",
    "val_batches = gen.flow_from_directory(directory=valid_path,shuffle=False,\n",
    "                                      batch_size=1,target_size=(224,224))\n",
    "val_classes = val_batches.classes\n",
    "val_labels = onehot(val_classes)\n",
    "val_preds = model.predict_generator(val_batches,val_samples=val_batches.nb_sample)"
   ]
  },
  {
   "cell_type": "code",
   "execution_count": 228,
   "metadata": {
    "collapsed": false
   },
   "outputs": [
    {
     "data": {
      "text/plain": [
       "array(0.16744581952881796)"
      ]
     },
     "execution_count": 228,
     "metadata": {},
     "output_type": "execute_result"
    }
   ],
   "source": [
    "keras.metrics.categorical_crossentropy(val_labels, do_clip(val_preds, 0.94)).eval()"
   ]
  },
  {
   "cell_type": "code",
   "execution_count": 250,
   "metadata": {
    "collapsed": true
   },
   "outputs": [],
   "source": [
    "# test different maxes\n",
    "preds_clipped = do_clip(preds, 0.97)"
   ]
  },
  {
   "cell_type": "code",
   "execution_count": 251,
   "metadata": {
    "collapsed": false
   },
   "outputs": [
    {
     "data": {
      "text/plain": [
       "array([ ('img_81601.jpg', [0.0050003016367554665, 0.05515734851360321, 0.010564645752310753, 0.0033333334140479565, 0.0033333334140479565, 0.0033333334140479565, 0.2735058665275574, 0.00755135715007782, 0.12907674908638, 0.517652690410614]),\n",
       "       ('img_14887.jpg', [0.7740589380264282, 0.0033333334140479565, 0.0033333334140479565, 0.0033333334140479565, 0.0033333334140479565, 0.01121825072914362, 0.0033333334140479565, 0.12217257916927338, 0.010642309673130512, 0.07975097745656967]),\n",
       "       ('img_62885.jpg', [0.0033333334140479565, 0.0033333334140479565, 0.0033333334140479565, 0.0033333334140479565, 0.9700000286102295, 0.0033333334140479565, 0.0033333334140479565, 0.0033333334140479565, 0.0033333334140479565, 0.0033333334140479565]),\n",
       "       ('img_45125.jpg', [0.0033333334140479565, 0.0033333334140479565, 0.0033333334140479565, 0.0033333334140479565, 0.0033333334140479565, 0.0033333334140479565, 0.0033333334140479565, 0.0033333334140479565, 0.9700000286102295, 0.0033333334140479565]),\n",
       "       ('img_22633.jpg', [0.010055741295218468, 0.9700000286102295, 0.0033333334140479565, 0.003453415585681796, 0.0033333334140479565, 0.0033333334140479565, 0.007785472087562084, 0.0033333334140479565, 0.0033333334140479565, 0.0033333334140479565])], \n",
       "      dtype=[('img', 'S14'), ('probs', '<f4', (10,))])"
      ]
     },
     "execution_count": 251,
     "metadata": {},
     "output_type": "execute_result"
    }
   ],
   "source": [
    "# join the arrays\n",
    "subm2 = np.zeros(img_filenames.size,dtype=[('img',img_filenames.dtype.str),('probs',preds.dtype.str,(10,))])\n",
    "subm2['img'] = img_filenames\n",
    "subm2['probs'] = preds_clipped\n",
    "subm2[:5]"
   ]
  },
  {
   "cell_type": "code",
   "execution_count": 247,
   "metadata": {
    "collapsed": false
   },
   "outputs": [],
   "source": [
    "stall = np.dtype([('img',img_filenames.dtype.str)] + preds.dtype.descr*preds.shape[1])\n",
    "subm = subm2.view(stall)\n",
    "fmt = '%s' + preds.shape[1] * ',%.4f'"
   ]
  },
  {
   "cell_type": "code",
   "execution_count": 252,
   "metadata": {
    "collapsed": true
   },
   "outputs": [],
   "source": [
    "num_subm = 12"
   ]
  },
  {
   "cell_type": "code",
   "execution_count": 253,
   "metadata": {
    "collapsed": false
   },
   "outputs": [
    {
     "name": "stdout",
     "output_type": "stream",
     "text": [
      "/home/ubuntu/nbs/data/statefarm\n",
      "img,c0,c1,c2,c3,c4,c5,c6,c7,c8,c9\n",
      "img_81601.jpg,0.0067,0.0552,0.0106,0.0067,0.0067,0.0067,0.2735,0.0076,0.1291,0.5177\n",
      "img_14887.jpg,0.7741,0.0067,0.0067,0.0067,0.0067,0.0112,0.0067,0.1222,0.0106,0.0798\n",
      "img_62885.jpg,0.0067,0.0067,0.0067,0.0067,0.9400,0.0067,0.0067,0.0067,0.0067,0.0067\n",
      "img_45125.jpg,0.0067,0.0067,0.0067,0.0067,0.0067,0.0067,0.0067,0.0067,0.9400,0.0067\n",
      "img_22633.jpg,0.0101,0.9400,0.0067,0.0067,0.0067,0.0067,0.0078,0.0067,0.0067,0.0067\n",
      "img_45660.jpg,0.0067,0.0067,0.0067,0.0067,0.0067,0.0067,0.0068,0.9105,0.0728,0.0067\n",
      "img_88962.jpg,0.0067,0.0067,0.0067,0.0067,0.0067,0.0067,0.0067,0.9400,0.0067,0.0067\n",
      "img_92987.jpg,0.0067,0.0067,0.9400,0.0067,0.0067,0.0067,0.0067,0.0067,0.0072,0.0067\n",
      "img_26932.jpg,0.7451,0.0067,0.0067,0.0067,0.0067,0.0125,0.0067,0.0067,0.0179,0.2142\n"
     ]
    }
   ],
   "source": [
    "%cd $DATA_HOME_DIR\n",
    "num_subm += 1\n",
    "submission_filename = 'submission%d.csv' % num_subm\n",
    "np.savetxt(submission_filename,subm,fmt,\n",
    "           header='img,c0,c1,c2,c3,c4,c5,c6,c7,c8,c9',delimiter=',',comments='')\n",
    "!head $DATA_HOME_DIR/$submission_filename"
   ]
  },
  {
   "cell_type": "code",
   "execution_count": 254,
   "metadata": {
    "collapsed": false
   },
   "outputs": [
    {
     "name": "stdout",
     "output_type": "stream",
     "text": [
      "/home/ubuntu/nbs/data/statefarm\n",
      "Starting new HTTPS connection (1): www.kaggle.com\n",
      "\n"
     ]
    }
   ],
   "source": [
    "%cd $DATA_HOME_DIR\n",
    "\n",
    "!kg submit $submission_filename -c state-farm-distracted-driver-detection"
   ]
  },
  {
   "cell_type": "code",
   "execution_count": null,
   "metadata": {
    "collapsed": true
   },
   "outputs": [],
   "source": []
  }
 ],
 "metadata": {
  "anaconda-cloud": {},
  "kernelspec": {
   "display_name": "Python [conda root]",
   "language": "python",
   "name": "conda-root-py"
  },
  "language_info": {
   "codemirror_mode": {
    "name": "ipython",
    "version": 2
   },
   "file_extension": ".py",
   "mimetype": "text/x-python",
   "name": "python",
   "nbconvert_exporter": "python",
   "pygments_lexer": "ipython2",
   "version": "2.7.12"
  }
 },
 "nbformat": 4,
 "nbformat_minor": 1
}
